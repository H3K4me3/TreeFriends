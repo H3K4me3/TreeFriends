{
 "cells": [
  {
   "cell_type": "code",
   "execution_count": null,
   "metadata": {},
   "outputs": [],
   "source": [
    "%matplotlib notebook"
   ]
  },
  {
   "cell_type": "code",
   "execution_count": null,
   "metadata": {},
   "outputs": [],
   "source": [
    "import os\n",
    "import sys\n",
    "import sqlite3\n",
    "\n",
    "if \"__file__\" in globals():\n",
    "    PROJECT_ROOT = os.path.join(os.path.dirname(__file__), \"..\")\n",
    "else:\n",
    "    PROJECT_ROOT = \"..\"\n",
    "sys.path.insert(0, os.path.join(PROJECT_ROOT, \"lib\"))\n",
    "\n",
    "from snpdb import SNPDB\n",
    "\n",
    "DB_PATH = os.path.join(PROJECT_ROOT, \"results/snpdb.sqlite3\")\n",
    "db = SNPDB(DB_PATH)"
   ]
  },
  {
   "cell_type": "markdown",
   "metadata": {},
   "source": [
    "I have created a view `suspicious_stat` in the database, the last column `REF_AC` is the expected allele count by subtracting alternative allele counts from the `AN` (125568)."
   ]
  },
  {
   "cell_type": "code",
   "execution_count": null,
   "metadata": {
    "scrolled": true
   },
   "outputs": [],
   "source": [
    "cur = db.query(\"select * from suspicious_stat where REF_AC < 0\")\n",
    "cur.row_factory = sqlite3.Row\n",
    "a = cur.fetchone()\n",
    "dict(a)"
   ]
  },
  {
   "cell_type": "markdown",
   "metadata": {},
   "source": [
    "Plot the distribution of REF_AC."
   ]
  },
  {
   "cell_type": "code",
   "execution_count": null,
   "metadata": {},
   "outputs": [],
   "source": [
    "## TODO: random sample the values\n",
    "ans = []\n",
    "for idx, row in enumerate(db.query(\"select seqnames, start, REF_AC from suspicious_stat\")):\n",
    "    seqnames, start, REF_AC = row\n",
    "    if REF_AC > 125568/2:\n",
    "        continue\n",
    "    ans.append(REF_AC)\n",
    "\n",
    "import matplotlib.pyplot as plt\n",
    "#plt.plot(sorted(ans))\n",
    "plt.plot((ans), \"ro\")\n",
    "plt.show()"
   ]
  },
  {
   "cell_type": "code",
   "execution_count": null,
   "metadata": {},
   "outputs": [],
   "source": [
    "len(ans)"
   ]
  }
 ],
 "metadata": {
  "kernelspec": {
   "display_name": "Python 3",
   "language": "python",
   "name": "python3"
  },
  "language_info": {
   "codemirror_mode": {
    "name": "ipython",
    "version": 3
   },
   "file_extension": ".py",
   "mimetype": "text/x-python",
   "name": "python",
   "nbconvert_exporter": "python",
   "pygments_lexer": "ipython3",
   "version": "3.7.3"
  }
 },
 "nbformat": 4,
 "nbformat_minor": 2
}
